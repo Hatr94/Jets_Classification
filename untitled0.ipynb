{
  "cells": [
    {
      "cell_type": "code",
      "execution_count": 2,
      "metadata": {
        "colab": {
          "base_uri": "https://localhost:8080/"
        },
        "id": "Jj5wzNgyZAmG",
        "outputId": "81a6cd14-a02b-474e-a307-0571f00da530"
      },
      "outputs": [
        {
          "output_type": "stream",
          "name": "stdout",
          "text": [
            "Drive already mounted at /content/drive; to attempt to forcibly remount, call drive.mount(\"/content/drive\", force_remount=True).\n",
            "fatal: destination path 'Jets_Classification' already exists and is not an empty directory.\n",
            "Files already downloaded and verified\n",
            "Files already downloaded and verified\n",
            "Device: cuda\n"
          ]
        }
      ],
      "source": [
        "from google.colab import drive\n",
        "drive.mount('/content/drive')\n",
        "!git clone https://github.com/Hatr94/Jets_Classification.git\n",
        "\n",
        "import torch\n",
        "import os\n",
        "import numpy as np\n",
        "import matplotlib.pyplot as plt\n",
        "from PIL import Image\n",
        "import torch.nn as nn\n",
        "import torch.optim as optim\n",
        "from torchvision import datasets, transforms\n",
        "from torch.utils.data import DataLoader, random_split\n",
        "from torchvision.models import vit_b_16  # Import a pre-trained ViT model\n",
        "from torch.optim.lr_scheduler import StepLR\n",
        "from torchsummary import summary as model_summary\n",
        "from tqdm.auto import tqdm\n",
        "\n",
        "# Definir transformaciones para los datos de entrenamiento y validación\n",
        "transform = transforms.Compose([\n",
        "  transforms.Resize((224, 224)),  # Redimensionar las imágenes a 224x224 píxeles\n",
        "  transforms.ToTensor(),          # Convertir las imágenes a tensores\n",
        "  transforms.Normalize([0.485, 0.456, 0.406], [0.229, 0.224, 0.225])\n",
        "])\n",
        "\n",
        "# Definir el tamaño del batch\n",
        "batch_size = 64\n",
        "\n",
        "# Cambiar la ruta de CIFAR10 a la ruta local deseada\n",
        "train_dataset = datasets.CIFAR10(root='/content/drive/MyDrive/iamgenes/jet2000q', train=True, download=True, transform=transform)\n",
        "test_dataset = datasets.CIFAR10(root='/content/drive/MyDrive/iamgenes/jet2000q', train=False, download=True, transform=transform)\n",
        "\n",
        "# Split train dataset into train and validation sets (80% and 20%)\n",
        "train_size = int(0.8 * len(train_dataset))\n",
        "val_size = len(train_dataset) - train_size\n",
        "train_dataset, val_dataset = random_split(train_dataset, [train_size, val_size])\n",
        "\n",
        "# Crear los DataLoaders\n",
        "train_loader = DataLoader(train_dataset, batch_size=batch_size, shuffle=True)\n",
        "val_loader = DataLoader(val_dataset, batch_size=batch_size, shuffle=False)\n",
        "test_loader = DataLoader(test_dataset, batch_size=batch_size, shuffle=False)\n",
        "\n",
        "# Definir dispositivo\n",
        "device = torch.device(\"cuda\" if torch.cuda.is_available() else \"cpu\")\n",
        "print(f\"Device: {device}\")\n",
        "model = vit_b_16(pretrained=False)\n",
        "model.heads.head = nn.Linear(model.heads.head.in_features, 10)  # Ajustar para CIFAR-10 (10 clases)\n",
        "model.to(device)\n",
        "\n",
        "# Definir función de pérdida, optimizador y scheduler\n",
        "criterion = nn.CrossEntropyLoss()\n",
        "optimizer = optim.Adam(model.parameters(), lr=0.001)\n",
        "scheduler = StepLR(optimizer, step_size=1, gamma=0.1)\n",
        "\n",
        "# Definir función de entrenamiento con la ruta de guardado deseada\n",
        "def train_model(model, train_loader, val_loader, criterion, optimizer, num_epochs=5):\n",
        "    best_loss = float('inf')\n",
        "    save_path = '/content/drive/MyDrive/modelos'\n",
        "    model_file_name = 'best_model1.pt'\n",
        "\n",
        "    # Crear el directorio si no existe\n",
        "    if not os.path.exists(save_path):\n",
        "        os.makedirs(save_path)\n",
        "\n",
        "    for epoch in range(num_epochs):\n",
        "        model.train()\n",
        "        running_loss = 0.0\n",
        "        for inputs, labels in train_loader:\n",
        "            inputs, labels = inputs.to(device), labels.to(device)\n",
        "            optimizer.zero_grad()\n",
        "            outputs = model(inputs)\n",
        "            loss = criterion(outputs, labels)\n",
        "            loss.backward()\n",
        "            optimizer.step()\n",
        "            running_loss += loss.item()\n",
        "\n",
        "        scheduler.step()\n",
        "\n",
        "        val_loss = 0.0\n",
        "        model.eval()\n",
        "        with torch.no_grad():\n",
        "            for inputs, labels in val_loader:\n",
        "                inputs, labels = inputs.to(device), labels.to(device)\n",
        "                outputs = model(inputs)\n",
        "                loss = criterion(outputs, labels)\n",
        "                val_loss += loss.item()\n",
        "\n",
        "        avg_train_loss = running_loss / len(train_loader)\n",
        "        avg_val_loss = val_loss / len(val_loader)\n",
        "\n",
        "        print(f\"Epoch {epoch+1}/{num_epochs}, Train Loss: {avg_train_loss}, Validation Loss: {avg_val_loss}\")\n",
        "\n",
        "        # Guardar el modelo si es el mejor hasta ahora\n",
        "        if avg_val_loss < best_loss:\n",
        "            best_loss = avg_val_loss\n",
        "            torch.save(model.state_dict(), os.path.join(save_path, model_file_name))\n",
        "            print('New best model saved!')\n",
        "\n",
        "    print(\"Entrenamiento completado\")\n",
        "\n"
      ]
    },
    {
      "cell_type": "code",
      "source": [],
      "metadata": {
        "id": "omezzCd1U1yX"
      },
      "execution_count": null,
      "outputs": []
    },
    {
      "cell_type": "code",
      "execution_count": null,
      "metadata": {
        "colab": {
          "base_uri": "https://localhost:8080/"
        },
        "id": "bylFVmaaGuDz",
        "outputId": "4a95ec12-eb64-42fe-8ae7-04345f31fb80"
      },
      "outputs": [
        {
          "name": "stdout",
          "output_type": "stream",
          "text": [
            "Modelo guardado en: C:/Users/halej/OneDrive/Documentos/redes neurales/demo/resultados/best_model.pth\n"
          ]
        }
      ],
      "source": [
        "model_path = 'C:/Users/halej/OneDrive/Documentos/redes neurales/demo/resultados/best_model.pth'\n",
        "torch.save(model.state_dict(), model_path)\n",
        "print(f\"Modelo guardado en: {model_path}\")\n"
      ]
    },
    {
      "cell_type": "markdown",
      "metadata": {
        "id": "X1xiBMkRHGKR"
      },
      "source": [
        "vizualizar los resultados\n"
      ]
    },
    {
      "cell_type": "markdown",
      "metadata": {
        "id": "KAY8-jFgHlTW"
      },
      "source": [
        " Evaluar el Modelo en el Conjunto de Prueba"
      ]
    },
    {
      "cell_type": "code",
      "execution_count": null,
      "metadata": {
        "colab": {
          "base_uri": "https://localhost:8080/"
        },
        "id": "D7UZiwtWHrqr",
        "outputId": "b845a8f5-d103-4a01-cee8-21d076641a42"
      },
      "outputs": [
        {
          "name": "stdout",
          "output_type": "stream",
          "text": [
            "Test Loss: 1.912227266153712, Test Accuracy: 28.860000000000003%\n"
          ]
        }
      ],
      "source": [
        "test_loss = 0.0\n",
        "correct = 0\n",
        "total = 0\n",
        "model.eval()\n",
        "with torch.no_grad():\n",
        "    for inputs, labels in test_loader:\n",
        "        inputs, labels = inputs.to(device), labels.to(device)\n",
        "        outputs = model(inputs)\n",
        "        loss = criterion(outputs, labels)\n",
        "        test_loss += loss.item()\n",
        "\n",
        "        # Calcular precisión\n",
        "        _, predicted = outputs.max(1)\n",
        "        total += labels.size(0)\n",
        "        correct += (predicted == labels).sum().item()\n",
        "\n",
        "avg_test_loss = test_loss / len(test_loader)\n",
        "accuracy = correct / total * 100\n",
        "print(f\"Test Loss: {avg_test_loss}, Test Accuracy: {accuracy}%\")\n"
      ]
    },
    {
      "cell_type": "markdown",
      "metadata": {
        "id": "bsm6Isbv-wvv"
      },
      "source": [
        "nuevo intento\n"
      ]
    },
    {
      "cell_type": "markdown",
      "source": [
        "# Sección nueva"
      ],
      "metadata": {
        "id": "o7CWSPVyYR_A"
      }
    },
    {
      "cell_type": "code",
      "source": [
        "from google.colab import drive\n",
        "drive.mount('/content/drive')"
      ],
      "metadata": {
        "colab": {
          "base_uri": "https://localhost:8080/"
        },
        "id": "DGnwAnZD0ydD",
        "outputId": "15fc4f9c-88bc-4cec-e930-1dbf83a7c690"
      },
      "execution_count": null,
      "outputs": [
        {
          "output_type": "stream",
          "name": "stdout",
          "text": [
            "Drive already mounted at /content/drive; to attempt to forcibly remount, call drive.mount(\"/content/drive\", force_remount=True).\n"
          ]
        }
      ]
    },
    {
      "cell_type": "code",
      "source": [
        "import torch\n",
        "import os\n",
        "import numpy as np\n",
        "import matplotlib.pyplot as plt\n",
        "from PIL import Image\n",
        "import torch.nn as nn\n",
        "import torch.optim as optim\n",
        "from torchvision import datasets, transforms\n",
        "from torch.utils.data import DataLoader, random_split\n",
        "from torchvision.models import vit_b_16  # Import a pre-trained ViT model\n",
        "from torch.optim.lr_scheduler import StepLR\n",
        "from torchsummary import summary as model_summary\n",
        "from tqdm.auto import tqdm\n",
        "\n",
        "# Definir transformaciones para los datos de entrenamiento y validación\n",
        "transform = transforms.Compose([\n",
        "    transforms.Resize((224, 224)),  # Redimensionar las imágenes a 224x224 píxeles\n",
        "    transforms.ToTensor(),          # Convertir las imágenes a tensores\n",
        "    transforms.Normalize([0.485, 0.456, 0.406], [0.229, 0.224, 0.225])\n",
        "])\n",
        "\n",
        "# Definir el tamaño del batch\n",
        "batch_size = 64\n",
        "\n",
        "# Crear los conjuntos de datos\n",
        "train_dataset = datasets.CIFAR10(root='/content/drive/MyDrive/iamgenes/im0', train=True, download=True, transform=transform)\n",
        "test_dataset = datasets.CIFAR10(root='/content/drive/MyDrive/iamgenes/im0', train=False, download=True, transform=transform)\n",
        "\n",
        "# Split train dataset into train and validation sets 80% and 20%\n",
        "train_size = int(0.8 * len(train_dataset))\n",
        "val_size = len(train_dataset) - train_size\n",
        "train_dataset, val_dataset = random_split(train_dataset, [train_size, val_size])\n",
        "\n",
        "print(f\"Train Data: {len(train_dataset)}\")\n",
        "print(f\"Validation Data: {len(val_dataset)}\")\n",
        "print(f\"Test Data: {len(test_dataset)}\")\n",
        "\n",
        "# Crear los DataLoaders\n",
        "train_loader = DataLoader(train_dataset, batch_size=batch_size, shuffle=True)\n",
        "val_loader = DataLoader(val_dataset, batch_size=batch_size, shuffle=False)\n",
        "test_loader = DataLoader(test_dataset, batch_size=batch_size, shuffle=False)\n",
        "\n"
      ],
      "metadata": {
        "colab": {
          "base_uri": "https://localhost:8080/"
        },
        "id": "Pu8A-xYyY8d5",
        "outputId": "5ac1ac21-338e-4f4c-88e5-5bd1830ce004"
      },
      "execution_count": null,
      "outputs": [
        {
          "output_type": "stream",
          "name": "stdout",
          "text": [
            "Files already downloaded and verified\n",
            "Files already downloaded and verified\n",
            "Train Data: 40000\n",
            "Validation Data: 10000\n",
            "Test Data: 10000\n"
          ]
        }
      ]
    },
    {
      "cell_type": "code",
      "source": [
        "# Definir hiperparámetros\n",
        "num_epochs = 5\n",
        "lr = 0.001  # Learning rate\n",
        "gamma = 0.1  # Factor de reducción de la tasa de aprendizaje\n",
        "\n",
        "# Cargar el modelo preentrenado (reemplaza `pretrained=True` por `weights='IMAGENET1K_V1'` si es necesario)\n",
        "model = vit_b_16(weights='IMAGENET1K_V1')  # Usar pesos preentrenados en ImageNet\n",
        "model.heads.head = nn.Linear(model.heads.head.in_features, 10)  # Ajustar para CIFAR-10 (10 clases)\n",
        "\n",
        "\n"
      ],
      "metadata": {
        "colab": {
          "base_uri": "https://localhost:8080/"
        },
        "id": "P_OizeufxEOV",
        "outputId": "5ae5360b-b13b-48fb-8301-923cceb1d4a0"
      },
      "execution_count": null,
      "outputs": [
        {
          "output_type": "stream",
          "name": "stderr",
          "text": [
            "Downloading: \"https://download.pytorch.org/models/vit_b_16-c867db91.pth\" to /root/.cache/torch/hub/checkpoints/vit_b_16-c867db91.pth\n",
            "100%|██████████| 330M/330M [00:04<00:00, 76.3MB/s]\n"
          ]
        }
      ]
    },
    {
      "cell_type": "code",
      "source": [
        "# Definir dispositivo\n",
        "device = torch.device(\"cuda\" if torch.cuda.is_available() else \"cpu\")\n",
        "print(f\"Device: {device}\")\n",
        "model.to(device)\n",
        "if device.type == 'cuda':\n",
        "    print(torch.cuda.get_device_name(0))\n",
        "\n",
        "# Definir función de pérdida, optimizador y scheduler\n",
        "criterion = nn.CrossEntropyLoss()\n",
        "optimizer = optim.Adam(model.parameters(), lr=lr)\n",
        "scheduler = StepLR(optimizer, step_size=1, gamma=gamma)\n",
        "\n"
      ],
      "metadata": {
        "colab": {
          "base_uri": "https://localhost:8080/"
        },
        "id": "iPWwZAU1xLTJ",
        "outputId": "78daca6d-c3a8-4217-c60a-f3a0cb962fef"
      },
      "execution_count": null,
      "outputs": [
        {
          "output_type": "stream",
          "name": "stdout",
          "text": [
            "Device: cuda\n",
            "Tesla T4\n"
          ]
        }
      ]
    },
    {
      "cell_type": "code",
      "source": [
        "# Definir función de entrenamiento\n",
        "def train_model(model, train_loader, val_loader, criterion, optimizer, num_epochs=10):\n",
        "    best_loss = float('inf')\n",
        "    model_file_name = 'best_model.pt'\n",
        "    save_path = '/content/drive/MyDrive/modelos'\n",
        "\n",
        "    # Crear el directorio si no existe\n",
        "    if not os.path.exists(save_path):\n",
        "        os.makedirs(save_path)\n",
        "\n",
        "    for epoch in range(num_epochs):\n",
        "        model.train()\n",
        "        running_loss = 0.0\n",
        "        for inputs, labels in train_loader:\n",
        "            inputs, labels = inputs.to(device), labels.to(device)\n",
        "            optimizer.zero_grad()\n",
        "            outputs = model(inputs)\n",
        "            loss = criterion(outputs, labels)\n",
        "            loss.backward()\n",
        "            optimizer.step()\n",
        "            running_loss += loss.item()\n",
        "\n",
        "        scheduler.step()\n",
        "\n",
        "        val_loss = 0.0\n",
        "        model.eval()\n",
        "        with torch.no_grad():\n",
        "            for inputs, labels in val_loader:\n",
        "                inputs, labels = inputs.to(device), labels.to(device)\n",
        "                outputs = model(inputs)\n",
        "                loss = criterion(outputs, labels)\n",
        "                val_loss += loss.item()\n",
        "\n",
        "        avg_train_loss = running_loss / len(train_loader)\n",
        "        avg_val_loss = val_loss / len(val_loader)\n",
        "\n",
        "        print(f\"Epoch {epoch+1}/{num_epochs}, Train Loss: {avg_train_loss}, Validation Loss: {avg_val_loss}\")\n",
        "\n",
        "        # Guardar el modelo si es el mejor hasta ahora\n",
        "        if avg_val_loss < best_loss:\n",
        "            best_loss = avg_val_loss\n",
        "            torch.save(model.state_dict(), os.path.join(save_path, model_file_name))\n",
        "            print('New best model saved!')\n",
        "\n",
        "    print(\"Entrenamiento completado\")"
      ],
      "metadata": {
        "id": "D0L7tiL3xWax"
      },
      "execution_count": null,
      "outputs": []
    },
    {
      "cell_type": "code",
      "source": [
        "# Entrenar el modelo\n",
        "train_model(model, train_loader, val_loader, criterion, optimizer, num_epochs=num_epochs)"
      ],
      "metadata": {
        "colab": {
          "base_uri": "https://localhost:8080/"
        },
        "id": "PM5MvMNhxnF9",
        "outputId": "19d54903-816a-4915-c6a9-b009e1606954"
      },
      "execution_count": null,
      "outputs": [
        {
          "output_type": "stream",
          "name": "stdout",
          "text": [
            "Epoch 1/5, Train Loss: 1.9364603170394898, Validation Loss: 1.712510389127549\n",
            "New best model saved!\n",
            "Epoch 2/5, Train Loss: 1.5861791858673095, Validation Loss: 1.5316417315962967\n",
            "New best model saved!\n",
            "Epoch 3/5, Train Loss: 1.496627473449707, Validation Loss: 1.4976428921814937\n",
            "New best model saved!\n",
            "Epoch 4/5, Train Loss: 1.4808501523971558, Validation Loss: 1.494194413446317\n",
            "New best model saved!\n",
            "Epoch 5/5, Train Loss: 1.4792000747680665, Validation Loss: 1.493874248425672\n",
            "New best model saved!\n",
            "Entrenamiento completado\n"
          ]
        }
      ]
    },
    {
      "cell_type": "code",
      "source": [
        "# Definir función de evaluación\n",
        "def evaluate_model(model, test_loader):\n",
        "    model.eval()\n",
        "    total = 0\n",
        "    correct = 0\n",
        "    with torch.no_grad():\n",
        "        for images, labels in test_loader:\n",
        "            images, labels = images.to(device), labels.to(device)\n",
        "            outputs = model(images)\n",
        "            _, predicted = torch.max(outputs.data, 1)\n",
        "            total += labels.size(0)\n",
        "            correct += (predicted == labels).sum().item()\n",
        "    accuracy = 100 * correct / total\n",
        "    print(f'Accuracy on test images: {accuracy:.2f}%')\n"
      ],
      "metadata": {
        "id": "BnuRJGWYZWuK"
      },
      "execution_count": null,
      "outputs": []
    },
    {
      "cell_type": "code",
      "source": [
        "\n",
        "# Evaluar el modelo antes de cargar el mejor modelo guardado\n",
        "evaluate_model(model, test_loader)\n"
      ],
      "metadata": {
        "colab": {
          "base_uri": "https://localhost:8080/"
        },
        "id": "hqeqc4CkxCYy",
        "outputId": "315a65a1-d266-4f25-b7ec-ef2a06fc91c9"
      },
      "execution_count": null,
      "outputs": [
        {
          "output_type": "stream",
          "name": "stdout",
          "text": [
            "Accuracy on test images: 44.24%\n"
          ]
        }
      ]
    },
    {
      "cell_type": "code",
      "source": [
        "\n",
        "# Cargar el mejor modelo guardado\n",
        "model_file_name = '/content/drive/MyDrive/modelos/best_model.pt'  # Confirma la ruta y nombre del archivo\n",
        "best_model_state_dict = torch.load(model_file_name, map_location=device)\n",
        "model.load_state_dict(best_model_state_dict)\n",
        "print(\"Modelo cargado exitosamente.\")\n",
        "\n",
        "\n"
      ],
      "metadata": {
        "id": "iJaoaohaZY4S",
        "colab": {
          "base_uri": "https://localhost:8080/"
        },
        "outputId": "e59c0b34-f649-4206-a069-6714167873b0"
      },
      "execution_count": null,
      "outputs": [
        {
          "output_type": "stream",
          "name": "stderr",
          "text": [
            "<ipython-input-9-facd358a0678>:3: FutureWarning: You are using `torch.load` with `weights_only=False` (the current default value), which uses the default pickle module implicitly. It is possible to construct malicious pickle data which will execute arbitrary code during unpickling (See https://github.com/pytorch/pytorch/blob/main/SECURITY.md#untrusted-models for more details). In a future release, the default value for `weights_only` will be flipped to `True`. This limits the functions that could be executed during unpickling. Arbitrary objects will no longer be allowed to be loaded via this mode unless they are explicitly allowlisted by the user via `torch.serialization.add_safe_globals`. We recommend you start setting `weights_only=True` for any use case where you don't have full control of the loaded file. Please open an issue on GitHub for any issues related to this experimental feature.\n",
            "  best_model_state_dict = torch.load(model_file_name, map_location=device)\n"
          ]
        },
        {
          "output_type": "stream",
          "name": "stdout",
          "text": [
            "Modelo cargado exitosamente.\n"
          ]
        }
      ]
    },
    {
      "cell_type": "code",
      "source": [
        "# Evaluar el modelo después de cargar el mejor modelo guardado\n",
        "evaluate_model(model, test_loader)"
      ],
      "metadata": {
        "colab": {
          "base_uri": "https://localhost:8080/"
        },
        "id": "yTjskbVfPlQD",
        "outputId": "5a10e235-aa2e-4c08-ce93-d631ebb46a68"
      },
      "execution_count": null,
      "outputs": [
        {
          "output_type": "stream",
          "name": "stdout",
          "text": [
            "Accuracy on test images: 44.24%\n"
          ]
        }
      ]
    },
    {
      "cell_type": "code",
      "source": [
        "test_loss = 0.0\n",
        "correct = 0\n",
        "total = 0\n",
        "model.eval()\n",
        "with torch.no_grad():\n",
        "    for inputs, labels in test_loader:\n",
        "        inputs, labels = inputs.to(device), labels.to(device)\n",
        "        outputs = model(inputs)\n",
        "        loss = criterion(outputs, labels)\n",
        "        test_loss += loss.item()\n",
        "\n",
        "        # Calcular precisión\n",
        "        _, predicted = outputs.max(1)\n",
        "        total += labels.size(0)\n",
        "        correct += (predicted == labels).sum().item()\n",
        "\n",
        "avg_test_loss = test_loss / len(test_loader)\n",
        "accuracy = correct / total * 100\n",
        "print(f\"Test Loss: {avg_test_loss}, Test Accuracy: {accuracy}%\")\n"
      ],
      "metadata": {
        "colab": {
          "base_uri": "https://localhost:8080/"
        },
        "id": "2-dMi5DuPooE",
        "outputId": "45d2bf71-9c90-4424-c1d6-bce36895cdd9"
      },
      "execution_count": null,
      "outputs": [
        {
          "output_type": "stream",
          "name": "stdout",
          "text": [
            "Test Loss: 1.5013685849062197, Test Accuracy: 44.24%\n"
          ]
        }
      ]
    },
    {
      "cell_type": "code",
      "source": [
        "# Cargar el mejor modelo guardado\n",
        "model_file_name = '/content/drive/MyDrive/modelos/best_model.pth'  # Confirma la ruta y nombre del archivo\n",
        "best_model_state_dict = torch.load(model_file_name, map_location=device)\n",
        "model.load_state_dict(best_model_state_dict)\n",
        "print(\"Modelo cargado exitosamente.\")\n",
        "\n"
      ],
      "metadata": {
        "colab": {
          "base_uri": "https://localhost:8080/"
        },
        "id": "O1fa5XywQ4Qr",
        "outputId": "b6e03843-ab40-4ded-e849-05c9f6c46bcd"
      },
      "execution_count": null,
      "outputs": [
        {
          "output_type": "stream",
          "name": "stderr",
          "text": [
            "<ipython-input-13-e026dc914c02>:3: FutureWarning: You are using `torch.load` with `weights_only=False` (the current default value), which uses the default pickle module implicitly. It is possible to construct malicious pickle data which will execute arbitrary code during unpickling (See https://github.com/pytorch/pytorch/blob/main/SECURITY.md#untrusted-models for more details). In a future release, the default value for `weights_only` will be flipped to `True`. This limits the functions that could be executed during unpickling. Arbitrary objects will no longer be allowed to be loaded via this mode unless they are explicitly allowlisted by the user via `torch.serialization.add_safe_globals`. We recommend you start setting `weights_only=True` for any use case where you don't have full control of the loaded file. Please open an issue on GitHub for any issues related to this experimental feature.\n",
            "  best_model_state_dict = torch.load(model_file_name, map_location=device)\n"
          ]
        },
        {
          "output_type": "stream",
          "name": "stdout",
          "text": [
            "Modelo cargado exitosamente.\n"
          ]
        }
      ]
    },
    {
      "cell_type": "code",
      "source": [
        "# Evaluar el modelo después de cargar el mejor modelo guardado\n",
        "evaluate_model(model, test_loader)"
      ],
      "metadata": {
        "colab": {
          "base_uri": "https://localhost:8080/"
        },
        "id": "sV8H00qrRWox",
        "outputId": "1d43a324-902c-46f9-f489-9f0d67de6491"
      },
      "execution_count": null,
      "outputs": [
        {
          "output_type": "stream",
          "name": "stdout",
          "text": [
            "Accuracy on test images: 28.86%\n"
          ]
        }
      ]
    },
    {
      "cell_type": "code",
      "source": [
        "test_loss = 0.0\n",
        "correct = 0\n",
        "total = 0\n",
        "model.eval()\n",
        "with torch.no_grad():\n",
        "    for inputs, labels in test_loader:\n",
        "        inputs, labels = inputs.to(device), labels.to(device)\n",
        "        outputs = model(inputs)\n",
        "        loss = criterion(outputs, labels)\n",
        "        test_loss += loss.item()\n",
        "\n",
        "        # Calcular precisión\n",
        "        _, predicted = outputs.max(1)\n",
        "        total += labels.size(0)\n",
        "        correct += (predicted == labels).sum().item()\n",
        "\n",
        "avg_test_loss = test_loss / len(test_loader)\n",
        "accuracy = correct / total * 100\n",
        "print(f\"Test Loss: {avg_test_loss}, Test Accuracy: {accuracy}%\")\n"
      ],
      "metadata": {
        "colab": {
          "base_uri": "https://localhost:8080/"
        },
        "id": "1cFXBKQxRa9m",
        "outputId": "2ae86cad-9958-4107-cb04-f89f1139bcfc"
      },
      "execution_count": null,
      "outputs": [
        {
          "output_type": "stream",
          "name": "stdout",
          "text": [
            "Test Loss: 1.912227266153712, Test Accuracy: 28.860000000000003%\n"
          ]
        }
      ]
    },
    {
      "cell_type": "code",
      "source": [],
      "metadata": {
        "id": "WBXdZNWbR9Kh"
      },
      "execution_count": null,
      "outputs": []
    },
    {
      "cell_type": "markdown",
      "source": [
        "nuevo intento"
      ],
      "metadata": {
        "id": "e30BgjbG5wrN"
      }
    },
    {
      "cell_type": "code",
      "source": [
        "from google.colab import drive\n",
        "drive.mount('/content/drive')\n",
        "\n",
        "import torch\n",
        "import os\n",
        "import numpy as np\n",
        "import matplotlib.pyplot as plt\n",
        "from PIL import Image\n",
        "import torch.nn as nn\n",
        "import torch.optim as optim\n",
        "from torchvision import datasets, transforms\n",
        "from torch.utils.data import DataLoader, random_split\n",
        "from torchvision.models import vit_b_16  # Import a pre-trained ViT model\n",
        "from torch.optim.lr_scheduler import StepLR\n",
        "from torchsummary import summary as model_summary\n",
        "from tqdm.auto import tqdm\n",
        "\n",
        "# Definir transformaciones para los datos de entrenamiento y validación\n",
        "transform = transforms.Compose([\n",
        "  transforms.Resize((224, 224)),  # Redimensionar las imágenes a 224x224 píxeles\n",
        "  transforms.ToTensor(),          # Convertir las imágenes a tensores\n",
        "  transforms.Normalize([0.485, 0.456, 0.406], [0.229, 0.224, 0.225])\n",
        "])\n",
        "\n",
        "# Definir el tamaño del batch\n",
        "batch_size = 64\n",
        "\n",
        "# Crear los conjuntos de datos\n",
        "train_dataset = datasets.CIFAR10(root='/content/drive/MyDrive/iamgenes/jet2000q', train=True, download=True, transform=transform)\n",
        "test_dataset = datasets.CIFAR10(root='/content/drive/MyDrive/iamgenes/jet2000q', train=False, download=True, transform=transform)\n",
        "\n",
        "# Split train dataset into train and validation sets 80% and 20%\n",
        "train_size = int(0.8 * len(train_dataset))\n",
        "val_size = len(train_dataset) - train_size\n",
        "train_dataset, val_dataset = random_split(train_dataset, [train_size, val_size])\n",
        "\n",
        "print(f\"Train Data: {len(train_dataset)}\")\n",
        "print(f\"Validation Data: {len(val_dataset)}\")\n",
        "print(f\"Test Data: {len(test_dataset)}\")\n",
        "\n",
        "# Crear los DataLoaders\n",
        "train_loader = DataLoader(train_dataset, batch_size=batch_size, shuffle=True)\n",
        "val_loader = DataLoader(val_dataset, batch_size=batch_size, shuffle=False)\n",
        "test_loader = DataLoader(test_dataset, batch_size=batch_size, shuffle=False)\n"
      ],
      "metadata": {
        "colab": {
          "base_uri": "https://localhost:8080/"
        },
        "id": "sbCOx2zh5ysN",
        "outputId": "a9362190-cb27-4ac7-9afc-522d36ed38a4"
      },
      "execution_count": null,
      "outputs": [
        {
          "output_type": "stream",
          "name": "stdout",
          "text": [
            "Drive already mounted at /content/drive; to attempt to forcibly remount, call drive.mount(\"/content/drive\", force_remount=True).\n",
            "Downloading https://www.cs.toronto.edu/~kriz/cifar-10-python.tar.gz to /content/drive/MyDrive/iamgenes/jet2000q/cifar-10-python.tar.gz\n"
          ]
        },
        {
          "output_type": "stream",
          "name": "stderr",
          "text": [
            "100%|██████████| 170M/170M [00:03<00:00, 44.5MB/s]\n"
          ]
        },
        {
          "output_type": "stream",
          "name": "stdout",
          "text": [
            "Extracting /content/drive/MyDrive/iamgenes/jet2000q/cifar-10-python.tar.gz to /content/drive/MyDrive/iamgenes/jet2000q\n",
            "Files already downloaded and verified\n",
            "Train Data: 40000\n",
            "Validation Data: 10000\n",
            "Test Data: 10000\n"
          ]
        }
      ]
    },
    {
      "cell_type": "code",
      "source": [
        "# Definir hiperparámetros\n",
        "num_epochs = 5\n",
        "lr = 0.001  # Learning rate\n",
        "gamma = 0.1  # Factor de reducción de la tasa de aprendizaje\n",
        "\n",
        "# Cargar el modelo preentrenado\n",
        "model = vit_b_16(pretrained=False)\n",
        "#model = vit_b_16(pretrained=True)\n",
        "model.heads.head = nn.Linear(model.heads.head.in_features, 10)  # Ajustar para CIFAR-10 (10 clases)\n"
      ],
      "metadata": {
        "colab": {
          "base_uri": "https://localhost:8080/"
        },
        "id": "gyrEgtA96VQA",
        "outputId": "2d594dac-7a06-4238-d3b5-267a16a5f5fe"
      },
      "execution_count": null,
      "outputs": [
        {
          "output_type": "stream",
          "name": "stderr",
          "text": [
            "/usr/local/lib/python3.10/dist-packages/torchvision/models/_utils.py:208: UserWarning: The parameter 'pretrained' is deprecated since 0.13 and may be removed in the future, please use 'weights' instead.\n",
            "  warnings.warn(\n",
            "/usr/local/lib/python3.10/dist-packages/torchvision/models/_utils.py:223: UserWarning: Arguments other than a weight enum or `None` for 'weights' are deprecated since 0.13 and may be removed in the future. The current behavior is equivalent to passing `weights=None`.\n",
            "  warnings.warn(msg)\n"
          ]
        }
      ]
    },
    {
      "cell_type": "code",
      "source": [
        "# Definir dispositivo\n",
        "device = torch.device(\"cuda\" if torch.cuda.is_available() else \"cpu\")\n",
        "print(f\"Device: {device}\")\n",
        "model.to(device)\n",
        "if device == 'cuda':\n",
        "   print(torch.cuda.get_device_name(0))\n",
        "\n",
        "# Definir función de pérdida, optimizador y scheduler\n",
        "criterion = nn.CrossEntropyLoss()\n",
        "optimizer = optim.Adam(model.parameters(), lr=lr)\n",
        "scheduler = StepLR(optimizer, step_size=1, gamma=gamma)\n"
      ],
      "metadata": {
        "colab": {
          "base_uri": "https://localhost:8080/"
        },
        "id": "Z8vwJwLX6gK1",
        "outputId": "8b287013-59af-4d4a-e2a3-fbda38c085ea"
      },
      "execution_count": null,
      "outputs": [
        {
          "output_type": "stream",
          "name": "stdout",
          "text": [
            "Device: cuda\n"
          ]
        }
      ]
    },
    {
      "cell_type": "code",
      "source": [
        "# Definir función de entrenamiento\n",
        "def train_model(model, train_loader, val_loader, criterion, optimizer, num_epochs=10):\n",
        "    best_loss = float('inf')\n",
        "    model_file_name = 'best_model.pt'\n",
        "    save_path ='/content/drive/MyDrive/modelos'\n",
        "\n",
        "    # Crear el directorio si no existe\n",
        "    if not os.path.exists(save_path):\n",
        "        os.makedirs(save_path)\n",
        "\n",
        "    for epoch in range(num_epochs):\n",
        "        model.train()\n",
        "        running_loss = 0.0\n",
        "        for inputs, labels in train_loader:\n",
        "            inputs, labels = inputs.to(device), labels.to(device)\n",
        "            optimizer.zero_grad()\n",
        "            outputs = model(inputs)\n",
        "            loss = criterion(outputs, labels)\n",
        "            loss.backward()\n",
        "            optimizer.step()\n",
        "            running_loss += loss.item()\n",
        "\n",
        "        scheduler.step()\n",
        "\n",
        "        val_loss = 0.0\n",
        "        model.eval()\n",
        "        with torch.no_grad():\n",
        "            for inputs, labels in val_loader:\n",
        "                inputs, labels = inputs.to(device), labels.to(device)\n",
        "                outputs = model(inputs)\n",
        "                loss = criterion(outputs, labels)\n",
        "                val_loss += loss.item()\n",
        "\n",
        "        avg_train_loss = running_loss / len(train_loader)\n",
        "        avg_val_loss = val_loss / len(val_loader)\n",
        "\n",
        "        print(f\"Epoch {epoch+1}/{num_epochs}, Train Loss: {avg_train_loss}, Validation Loss: {avg_val_loss}\")\n",
        "\n",
        "        # Guardar el modelo si es el mejor hasta ahora\n",
        "        if avg_val_loss < best_loss:\n",
        "            best_loss = avg_val_loss\n",
        "            torch.save(model.state_dict(), os.path.join(save_path, model_file_name))\n",
        "            print('New best model saved!')\n",
        "\n",
        "    print(\"Entrenamiento completado\")"
      ],
      "metadata": {
        "id": "rIZ47upx6uY3"
      },
      "execution_count": null,
      "outputs": []
    },
    {
      "cell_type": "code",
      "source": [
        "# Entrenar el modelo\n",
        "train_model(model, train_loader, val_loader, criterion, optimizer, num_epochs=num_epochs)\n"
      ],
      "metadata": {
        "colab": {
          "base_uri": "https://localhost:8080/"
        },
        "id": "sPuLmGba65nD",
        "outputId": "f39268a4-be30-478c-cab5-494beff2fe9d"
      },
      "execution_count": null,
      "outputs": [
        {
          "output_type": "stream",
          "name": "stdout",
          "text": [
            "Epoch 1/5, Train Loss: 2.108192998123169, Validation Loss: 2.0403092279555692\n",
            "New best model saved!\n",
            "Epoch 2/5, Train Loss: 1.8956023824691772, Validation Loss: 1.8833466008969932\n",
            "New best model saved!\n",
            "Epoch 3/5, Train Loss: 1.8151796388626098, Validation Loss: 1.8059177299973312\n",
            "New best model saved!\n"
          ]
        }
      ]
    },
    {
      "cell_type": "code",
      "source": [],
      "metadata": {
        "id": "RlGLPJva6_kF"
      },
      "execution_count": null,
      "outputs": []
    }
  ],
  "metadata": {
    "accelerator": "GPU",
    "colab": {
      "gpuType": "T4",
      "provenance": []
    },
    "kernelspec": {
      "display_name": "Python 3",
      "name": "python3"
    },
    "language_info": {
      "name": "python"
    }
  },
  "nbformat": 4,
  "nbformat_minor": 0
}