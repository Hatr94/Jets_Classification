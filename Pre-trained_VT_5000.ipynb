{
 "cells": [
  {
   "cell_type": "code",
   "execution_count": 1,
   "metadata": {},
   "outputs": [],
   "source": [
    "import torch\n",
    "import os\n",
    "import numpy as np\n",
    "import matplotlib.pyplot as plt\n",
    "from PIL import Image\n",
    "import torch.nn as nn\n",
    "import torch.optim as optim\n",
    "from torchvision import datasets, transforms\n",
    "from torch.utils.data import DataLoader, random_split\n",
    "from torchvision.models import vit_b_16  # Import a pre-trained ViT model\n",
    "from torch.optim.lr_scheduler import StepLR\n",
    "from torchsummary import summary as model_summary\n",
    "from tqdm.auto import tqdm\n"
   ]
  },
  {
   "cell_type": "code",
   "execution_count": 2,
   "metadata": {},
   "outputs": [
    {
     "name": "stdout",
     "output_type": "stream",
     "text": [
      "Files already downloaded and verified\n",
      "Files already downloaded and verified\n",
      "Train Data: 40000\n",
      "Validation Data: 10000\n",
      "Test Data: 10000\n"
     ]
    }
   ],
   "source": [
    "# Definir transformaciones para los datos de entrenamiento y validación\n",
    "transform = transforms.Compose([\n",
    "  transforms.Resize((224, 224)),  # Redimensionar las imágenes a 224x224 píxeles\n",
    "  transforms.ToTensor(),          # Convertir las imágenes a tensores\n",
    "  transforms.Normalize([0.485, 0.456, 0.406], [0.229, 0.224, 0.225])\n",
    "])\n",
    "\n",
    "# Definir el tamaño del batch\n",
    "batch_size = 64\n",
    "\n",
    "# Crear los conjuntos de datos\n",
    "train_dataset = datasets.CIFAR10(root='/content/drive/MyDrive/iamgenes/im0', train=True, download=True, transform=transform)\n",
    "test_dataset = datasets.CIFAR10(root='/content/drive/MyDrive/iamgenes/im0', train=False, download=True, transform=transform)\n",
    "\n",
    "# Split train dataset into train and validation sets 80% and 20%\n",
    "train_size = int(0.8 * len(train_dataset))\n",
    "val_size = len(train_dataset) - train_size\n",
    "train_dataset, val_dataset = random_split(train_dataset, [train_size, val_size])\n",
    "\n",
    "print(f\"Train Data: {len(train_dataset)}\")\n",
    "print(f\"Validation Data: {len(val_dataset)}\")\n",
    "print(f\"Test Data: {len(test_dataset)}\")\n",
    "\n",
    "# Crear los DataLoaders\n",
    "train_loader = DataLoader(train_dataset, batch_size=batch_size, shuffle=True)\n",
    "val_loader = DataLoader(val_dataset, batch_size=batch_size, shuffle=False)\n",
    "test_loader = DataLoader(test_dataset, batch_size=batch_size, shuffle=False)"
   ]
  },
  {
   "cell_type": "code",
   "execution_count": 4,
   "metadata": {},
   "outputs": [],
   "source": [
    "# Definir hiperparámetros\n",
    "num_epochs = 5\n",
    "lr = 0.001  # Learning rate\n",
    "gamma = 0.1  # Factor de reducción de la tasa de aprendizaje\n",
    "\n",
    "# Cargar el modelo preentrenado\n",
    "model = vit_b_16(pretrained=False)\n",
    "#model = vit_b_16(pretrained=True)\n",
    "model.heads.head = nn.Linear(model.heads.head.in_features, 10)  # Ajustar para CIFAR-10 (10 clases)\n"
   ]
  },
  {
   "cell_type": "code",
   "execution_count": 5,
   "metadata": {},
   "outputs": [
    {
     "name": "stdout",
     "output_type": "stream",
     "text": [
      "Device: cpu\n"
     ]
    }
   ],
   "source": [
    "# Definir dispositivo\n",
    "device = torch.device(\"cuda\" if torch.cuda.is_available() else \"cpu\")\n",
    "print(f\"Device: {device}\")\n",
    "model.to(device)\n",
    "if device == 'cuda':\n",
    "   print(torch.cuda.get_device_name(0))\n",
    "\n",
    "# Definir función de pérdida, optimizador y scheduler\n",
    "criterion = nn.CrossEntropyLoss()\n",
    "optimizer = optim.Adam(model.parameters(), lr=lr)\n",
    "scheduler = StepLR(optimizer, step_size=1, gamma=gamma)"
   ]
  },
  {
   "cell_type": "code",
   "execution_count": 6,
   "metadata": {},
   "outputs": [
    {
     "name": "stdout",
     "output_type": "stream",
     "text": [
      "Epoch 1/5, Train Loss: 2.1116366960525514, Validation Loss: 2.0707887904659197\n",
      "New best model saved!\n",
      "Epoch 2/5, Train Loss: 1.868672243309021, Validation Loss: 1.799734840727156\n",
      "New best model saved!\n",
      "Epoch 3/5, Train Loss: 1.7662510055541991, Validation Loss: 1.759126292672127\n",
      "New best model saved!\n",
      "Epoch 4/5, Train Loss: 1.7460633602142335, Validation Loss: 1.7533907032316658\n",
      "New best model saved!\n",
      "Epoch 5/5, Train Loss: 1.742729207420349, Validation Loss: 1.7525340857779144\n",
      "New best model saved!\n",
      "Entrenamiento completado\n"
     ]
    }
   ],
   "source": [
    "# Definir función de entrenamiento\n",
    "def train_model(model, train_loader, val_loader, criterion, optimizer, num_epochs=10):\n",
    "    best_loss = float('inf')\n",
    "    model_file_name = 'best_model.pt'\n",
    "    save_path ='/content/drive/MyDrive/modelos'\n",
    "\n",
    "    # Crear el directorio si no existe\n",
    "    if not os.path.exists(save_path):\n",
    "        os.makedirs(save_path)\n",
    "\n",
    "    for epoch in range(num_epochs):\n",
    "        model.train()\n",
    "        running_loss = 0.0\n",
    "        for inputs, labels in train_loader:\n",
    "            inputs, labels = inputs.to(device), labels.to(device)\n",
    "            optimizer.zero_grad()\n",
    "            outputs = model(inputs)\n",
    "            loss = criterion(outputs, labels)\n",
    "            loss.backward()\n",
    "            optimizer.step()\n",
    "            running_loss += loss.item()\n",
    "        \n",
    "        scheduler.step()\n",
    "        \n",
    "        val_loss = 0.0\n",
    "        model.eval()\n",
    "        with torch.no_grad():\n",
    "            for inputs, labels in val_loader:\n",
    "                inputs, labels = inputs.to(device), labels.to(device)\n",
    "                outputs = model(inputs)\n",
    "                loss = criterion(outputs, labels)\n",
    "                val_loss += loss.item()\n",
    "        \n",
    "        avg_train_loss = running_loss / len(train_loader)\n",
    "        avg_val_loss = val_loss / len(val_loader)\n",
    "        \n",
    "        print(f\"Epoch {epoch+1}/{num_epochs}, Train Loss: {avg_train_loss}, Validation Loss: {avg_val_loss}\")\n",
    "        \n",
    "        # Guardar el modelo si es el mejor hasta ahora\n",
    "        if avg_val_loss < best_loss:\n",
    "            best_loss = avg_val_loss\n",
    "            torch.save(model.state_dict(), os.path.join(save_path, model_file_name))\n",
    "            print('New best model saved!')\n",
    "\n",
    "    print(\"Entrenamiento completado\")\n",
    "\n",
    "# Entrenar el modelo\n",
    "train_model(model, train_loader, val_loader, criterion, optimizer, num_epochs=num_epochs)"
   ]
  },
  {
   "cell_type": "code",
   "execution_count": 7,
   "metadata": {},
   "outputs": [
    {
     "name": "stdout",
     "output_type": "stream",
     "text": [
      "Accuracy on test images: 34.51%\n"
     ]
    }
   ],
   "source": [
    "\n",
    "def evaluate_model(model, test_loader):\n",
    "    model.eval()\n",
    "    total = 0\n",
    "    correct = 0\n",
    "    with torch.no_grad():\n",
    "        for images, labels in test_loader:\n",
    "            images, labels = images.to(device), labels.to(device)\n",
    "            outputs = model(images)\n",
    "            _, predicted = torch.max(outputs.data, 1)\n",
    "            total += labels.size(0)\n",
    "            correct += (predicted == labels).sum().item()\n",
    "    accuracy = 100 * correct / total\n",
    "    print(f'Accuracy on test images: {accuracy}%')\n",
    "# Evaluate the model\n",
    "evaluate_model(model, test_loader)    "
   ]
  },
  {
   "cell_type": "code",
   "execution_count": 8,
   "metadata": {},
   "outputs": [
    {
     "data": {
      "text/plain": [
       "<All keys matched successfully>"
      ]
     },
     "execution_count": 8,
     "metadata": {},
     "output_type": "execute_result"
    }
   ],
   "source": [
    "\n",
    "# Load the best model\n",
    "model_file_name = 'best_model_2402422_v01.pt'\n",
    "best_model_state_dict = torch.load(model_file_name)\n",
    "model.load_state_dict(best_model_state_dict)"
   ]
  },
  {
   "cell_type": "code",
   "execution_count": 9,
   "metadata": {},
   "outputs": [
    {
     "name": "stdout",
     "output_type": "stream",
     "text": [
      "Accuracy on test images: 96.77%\n"
     ]
    }
   ],
   "source": [
    "# Evaluate the model\n",
    "evaluate_model(model, test_loader)"
   ]
  }
 ],
 "metadata": {
  "kernelspec": {
   "display_name": "scikit-hep",
   "language": "python",
   "name": "python3"
  },
  "language_info": {
   "codemirror_mode": {
    "name": "ipython",
    "version": 3
   },
   "file_extension": ".py",
   "mimetype": "text/x-python",
   "name": "python",
   "nbconvert_exporter": "python",
   "pygments_lexer": "ipython3",
   "version": "3.12.3"
  }
 },
 "nbformat": 4,
 "nbformat_minor": 2
}
